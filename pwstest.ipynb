{
 "cells": [
  {
   "cell_type": "code",
   "execution_count": 86,
   "metadata": {
    "collapsed": true
   },
   "outputs": [],
   "source": [
    "from random import randint\n",
    "from copy import deepcopy"
   ]
  },
  {
   "cell_type": "code",
   "execution_count": 87,
   "metadata": {
    "collapsed": false
   },
   "outputs": [],
   "source": [
    "def initkuub():\n",
    "    solvedcube = [[\"b\" for i in range(9)], [\"g\" for i in range(9)], [\"w\" for i in range(9)], \\\n",
    "                  [\"y\" for i in range(9)], [\"r\" for i in range(9)], [\"o\" for i in range(9)], \\\n",
    "                  [\"ufl\", \"ufr\", \"ubr\", \"ubl\", \"dfl\", \"dfr\", \"dbr\", \"dbl\"], \\\n",
    "                  [\"uf\", \"ur\", \"ub\", \"ul\", \"fl\", \"fr\", \"br\", \"bl\", \"df\", \"dr\", \"db\", \"dl\"]]\n",
    "    return solvedcube\n",
    "solvedcube = initkuub()\n",
    "\n",
    "def turnface(face):\n",
    "    face[0], face[2], face[8], face[6] = face[6], face[0], face[2], face[8]\n",
    "    face[1], face[5], face[7], face[3] = face[3], face[1], face[5], face[7]\n",
    "def F(cube):\n",
    "    f, b, u, d, l, r, c, e = cube\n",
    "    turnface(f)\n",
    "    u[6], u[7], u[8], r[0], r[3], r[6], d[2], d[1], d[0], l[8], l[5], l[2] =\\\n",
    "    l[8], l[5], l[2], u[6], u[7], u[8], r[0], r[3], r[6], d[2], d[1], d[0]\n",
    "    # first I had d[0], d[1], d[2] which gave me some bugs, so I used the shuffle function for three moves and figured\n",
    "    # out something was wrong with F.\n",
    "    c[0], c[1], c[5], c[4], e[0], e[5], e[8], e[4] = c[4], c[0], c[1], c[5], e[4], e[0], e[5], e[8]\n",
    "    return cube\n",
    "def F2(cube):\n",
    "    for i in range(2):\n",
    "        F(cube)\n",
    "    return cube\n",
    "def Fc(cube):\n",
    "    for i in range(3):\n",
    "        F(cube)\n",
    "    return cube\n",
    "def B(cube):\n",
    "    f, b, u, d, l, r, c, e = cube\n",
    "    turnface(b)\n",
    "    u[2], u[1], u[0], l[0], l[3], l[6], d[6], d[7], d[8], r[8], r[5], r[2] =\\\n",
    "    r[8], r[5], r[2], u[2], u[1], u[0], l[0], l[3], l[6], d[6], d[7], d[8]\n",
    "    c[2], c[3], c[7], c[6], e[2], e[7], e[10], e[6] = c[6], c[2], c[3], c[7], e[6], e[2], e[7], e[10]\n",
    "    return cube\n",
    "def B2(cube):\n",
    "    for i in range(2):\n",
    "        B(cube)\n",
    "    return cube\n",
    "def Bc(cube):\n",
    "    for i in range(3):\n",
    "        B(cube)\n",
    "    return cube\n",
    "def U(cube):\n",
    "    f, b, u, d, l, r, c, e = cube\n",
    "    turnface(u)\n",
    "    b[2], b[1], b[0], r[2], r[1], r[0], f[2], f[1], f[0], l[2], l[1], l[0] =\\\n",
    "    l[2], l[1], l[0], b[2], b[1], b[0], r[2], r[1], r[0], f[2], f[1], f[0]\n",
    "    c[3], c[2], c[1], c[0], e[2], e[1], e[0], e[3] = c[0], c[3], c[2], c[1], e[3], e[2], e[1], e[0]\n",
    "    return cube\n",
    "def U2(cube):\n",
    "    for i in range(2):\n",
    "        U(cube)\n",
    "    return cube\n",
    "def Uc(cube):\n",
    "    for i in range(3):\n",
    "        U(cube)\n",
    "    return cube\n",
    "def D(cube):\n",
    "    f, b, u, d, l, r, c, e = cube\n",
    "    turnface(d)\n",
    "    f[6], f[7], f[8], r[6], r[7], r[8], b[6], b[7], b[8], l[6], l[7], l[8] =\\\n",
    "    l[6], l[7], l[8], f[6], f[7], f[8], r[6], r[7], r[8], b[6], b[7], b[8]\n",
    "    c[4], c[5], c[6], c[7], e[8], e[9], e[10], e[11] = c[7], c[4], c[5], c[6], e[11], e[8], e[9], e[10]\n",
    "    return cube\n",
    "# from here on I command c'd the double and counter moves but I forgot to replace the D in the def with L and R etc\n",
    "def D2(cube):\n",
    "    for i in range(2):\n",
    "        D(cube)\n",
    "    return cube\n",
    "def Dc(cube):\n",
    "    for i in range(3):\n",
    "        D(cube)\n",
    "    return cube\n",
    "def L(cube):\n",
    "    f, b, u, d, l, r, c, e = cube\n",
    "    turnface(l)\n",
    "    u[0], u[3], u[6], f[0], f[3], f[6], d[0], d[3], d[6], b[8], b[5], b[2] =\\\n",
    "    b[8], b[5], b[2], u[0], u[3], u[6], f[0], f[3], f[6], d[0], d[3], d[6]\n",
    "    c[3], c[0], c[4], c[7], e[3], e[4], e[11], e[7] = c[7], c[3], c[0], c[4], e[7], e[3], e[4], e[11]\n",
    "    return cube\n",
    "def L2(cube):\n",
    "    for i in range(2):\n",
    "        L(cube)\n",
    "    return cube\n",
    "def Lc(cube):\n",
    "    for i in range(3):\n",
    "        L(cube)\n",
    "    return cube\n",
    "def R(cube):\n",
    "    f, b, u, d, l, r, c, e = cube\n",
    "    turnface(r)\n",
    "    u[8], u[5], u[2], b[0], b[3], b[6], d[8], d[5], d[2], f[8], f[5], f[2] =\\\n",
    "    f[8], f[5], f[2], u[8], u[5], u[2], b[0], b[3], b[6], d[8], d[5], d[2]\n",
    "    c[1], c[2], c[6], c[5], e[1], e[6], e[9], e[5] = c[5], c[1], c[2], c[6], e[5], e[1], e[6], e[9]\n",
    "    return cube\n",
    "def R2(cube):\n",
    "    for i in range(2):\n",
    "        R(cube)\n",
    "    return cube\n",
    "def Rc(cube):\n",
    "    for i in range(3):\n",
    "        R(cube)\n",
    "    return cube\n",
    "moves = [F, F2, Fc, B, B2, Bc, U, U2, Uc, D, D2, Dc, L, L2, Lc, R, R2, Rc]\n",
    "names = [\"F\", \"F2\", \"F'\", \"B\", \"B2\", \"B'\", \"U\", \"U2\", \"U'\", \"D\", \"D2\", \"D'\", \"L\", \"L2\", \"L'\", \"R\", \"R2\", \"R'\"]\n",
    "def printc3(cube):\n",
    "    for i in range(6):\n",
    "        print cube[i][0], cube[i][1], cube[i][2]\n",
    "        print cube[i][3], cube[i][4], cube[i][5]\n",
    "        print cube[i][6], cube[i][7], cube[i][8]\n",
    "def printcomplete(cube):\n",
    "    printc3(cube)\n",
    "    print cube[6]\n",
    "    print cube[7]\n",
    "def shuffle(cube, n=30):\n",
    "    m = []\n",
    "    while len(m)<n:\n",
    "        a = randint(0,17)\n",
    "        if len(m)>0:\n",
    "            if m[-1] == a:\n",
    "                continue\n",
    "            elif m[-1]/3 == a/3:\n",
    "                continue\n",
    "        if len(m)>1:\n",
    "            if a/6 == m[-1]/6 == m[-2]/6:\n",
    "                continue\n",
    "        m.append(a)\n",
    "    for i in m:\n",
    "        moves[i](cube)\n",
    "        print names[i],\n",
    "    print \"\"\n",
    "    return cube"
   ]
  },
  {
   "cell_type": "code",
   "execution_count": 64,
   "metadata": {
    "collapsed": false
   },
   "outputs": [
    {
     "name": "stdout",
     "output_type": "stream",
     "text": [
      "F' U' D' B' L2 R' U' L' U' F2 \n"
     ]
    }
   ],
   "source": [
    "x = deepcopy(solvedcube)\n",
    "a = deepcopy(shuffle(x, 10))"
   ]
  },
  {
   "cell_type": "code",
   "execution_count": 88,
   "metadata": {
    "collapsed": false
   },
   "outputs": [
    {
     "name": "stdout",
     "output_type": "stream",
     "text": [
      "o o w\n",
      "o b w\n",
      "r y y\n",
      "r r g\n",
      "y g r\n",
      "y g y\n",
      "o w g\n",
      "o w r\n",
      "w y r\n",
      "w r b\n",
      "b y b\n",
      "o o o\n",
      "w w b\n",
      "g r b\n",
      "b w b\n",
      "g b y\n",
      "g o g\n",
      "r y g\n",
      "['ufr', 'ubl', 'dbl', 'ubr', 'ufl', 'dfl', 'dbr', 'dfr']\n",
      "['dr', 'fl', 'ul', 'ur', 'fr', 'ub', 'db', 'bl', 'dl', 'df', 'br', 'uf']\n"
     ]
    }
   ],
   "source": [
    "printcomplete(a)"
   ]
  },
  {
   "cell_type": "code",
   "execution_count": 89,
   "metadata": {
    "collapsed": true
   },
   "outputs": [],
   "source": [
    "def dcross1(cube):\n",
    "    solvedcube = initkuub()\n",
    "    for i in range(8,12):\n",
    "        b = cube[7][i]\n",
    "        if b[0] == \"d\":\n",
    "            print i, b\n",
    "            # hoe koppel ik de twee manieren van weergave aan elkaar?\n",
    "            if while b != solvedcube[7][i]:\n",
    "                b = solvedcube[7][i]"
   ]
  },
  {
   "cell_type": "code",
   "execution_count": 90,
   "metadata": {
    "collapsed": false
   },
   "outputs": [
    {
     "name": "stdout",
     "output_type": "stream",
     "text": [
      "8 dl\n",
      "9 df\n"
     ]
    }
   ],
   "source": [
    "dcross1(a)"
   ]
  },
  {
   "cell_type": "code",
   "execution_count": 96,
   "metadata": {
    "collapsed": false
   },
   "outputs": [
    {
     "name": "stdout",
     "output_type": "stream",
     "text": [
      "b w b\n",
      "r b o\n",
      "b y b\n",
      "g w g\n",
      "o g r\n",
      "g y g\n",
      "w g w\n",
      "r w o\n",
      "w b w\n",
      "y b y\n",
      "r y o\n",
      "y g y\n",
      "r w r\n",
      "g r b\n",
      "r y r\n",
      "o w o\n",
      "b o g\n",
      "o y o\n"
     ]
    }
   ],
   "source": [
    "def superflip(cube):\n",
    "    mdict = {F:0, F2:1, Fc:2, B:3, B2:4, Bc:5, U:6, U2:7, Uc:8, \n",
    "             D:9, D2:10, Dc:11, L:12, L2:13, Lc:14, R:15, R2:16, Rc:17}\n",
    "    m = [6, 16, 0, 3, 15, 4, 15, 7, 12, 4, 15, 8, 11, 16, 0, 12, 17, 4, 7, 1]\n",
    "    for i in m:\n",
    "        moves[i](cube)\n",
    "    return cube\n",
    "x = initkuub()\n",
    "x = superflip(x)\n",
    "printc3(x)"
   ]
  },
  {
   "cell_type": "code",
   "execution_count": 99,
   "metadata": {
    "collapsed": false
   },
   "outputs": [
    {
     "name": "stdout",
     "output_type": "stream",
     "text": [
      "b y b\n",
      "o b r\n",
      "b w b\n",
      "g y g\n",
      "r g o\n",
      "g w g\n",
      "w b w\n",
      "o w r\n",
      "w g w\n",
      "y g y\n",
      "o y r\n",
      "y b y\n",
      "r y r\n",
      "b r g\n",
      "r w r\n",
      "o y o\n",
      "g o b\n",
      "o w o\n"
     ]
    }
   ],
   "source": [
    "kuub = initkuub()\n",
    "m = [1, 4, 7, 10, 13, 16]\n",
    "for i in m:\n",
    "    moves[i](kuub)\n",
    "superflip(kuub)\n",
    "printc3(kuub)"
   ]
  },
  {
   "cell_type": "code",
   "execution_count": null,
   "metadata": {
    "collapsed": true
   },
   "outputs": [],
   "source": [
    "# idee: mss een manier om alle zijden als f te kunnen gaan zien? niet alleen blauw zegmaar? en dan een functie om de\n",
    "# kuub te draaien (dan zijn dingen als assen roteren en roteren om assen etc mss mogelijk)"
   ]
  }
 ],
 "metadata": {
  "kernelspec": {
   "display_name": "Python 2",
   "language": "python",
   "name": "python2"
  },
  "language_info": {
   "codemirror_mode": {
    "name": "ipython",
    "version": 2
   },
   "file_extension": ".py",
   "mimetype": "text/x-python",
   "name": "python",
   "nbconvert_exporter": "python",
   "pygments_lexer": "ipython2",
   "version": "2.7.10"
  }
 },
 "nbformat": 4,
 "nbformat_minor": 0
}
