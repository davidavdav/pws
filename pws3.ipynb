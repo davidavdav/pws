{
 "cells": [
  {
   "cell_type": "code",
   "execution_count": 1,
   "metadata": {
    "collapsed": true
   },
   "outputs": [],
   "source": [
    "from random import randint\n",
    "from copy import deepcopy"
   ]
  },
  {
   "cell_type": "code",
   "execution_count": 7,
   "metadata": {
    "collapsed": false
   },
   "outputs": [],
   "source": [
    "solvedcube = [[\"b\" for i in range(9)], [\"g\" for i in range(9)], [\"w\" for i in range(9)], \\\n",
    "             [\"y\" for i in range(9)], [\"r\" for i in range(9)], [\"o\" for i in range(9)]]\n",
    "def turnface(face):\n",
    "    face[0], face[2], face[6], face[8] = face[6], face[0], face[8], face[2]\n",
    "    face[1], face[3], face[5], face[7] = face[3], face[7], face[1], face[5]\n",
    "def F(cube):\n",
    "    f, b, u, d, l, r = cube\n",
    "    turnface(f)\n",
    "    u[6], u[7], u[8], r[0], r[3], r[6], d[2], d[1], d[0], l[8], l[5], l[2] =\\\n",
    "    l[8], l[5], l[2], u[6], u[7], u[8], r[0], r[3], r[6], d[2], d[1], d[0]\n",
    "    # first I had d[0], d[1], d[2] which gave me some bugs, so I used the shuffle function for three moves and figured\n",
    "    # out something was wrong with F.\n",
    "    return cube\n",
    "def F2(cube):\n",
    "    for i in range(2):\n",
    "        F(cube)\n",
    "    return cube\n",
    "def Fc(cube):\n",
    "    for i in range(3):\n",
    "        F(cube)\n",
    "    return cube\n",
    "def B(cube):\n",
    "    f, b, u, d, l, r = cube\n",
    "    turnface(b)\n",
    "    u[2], u[1], u[0], l[0], l[3], l[6], d[6], d[7], d[8], r[8], r[5], r[2] =\\\n",
    "    r[8], r[5], r[2], u[2], u[1], u[0], l[0], l[3], l[6], d[6], d[7], d[8]\n",
    "    return cube\n",
    "def B2(cube):\n",
    "    for i in range(2):\n",
    "        B(cube)\n",
    "    return cube\n",
    "def Bc(cube):\n",
    "    for i in range(3):\n",
    "        B(cube)\n",
    "    return cube\n",
    "def U(cube):\n",
    "    f, b, u, d, l, r = cube\n",
    "    turnface(u)\n",
    "    b[2], b[1], b[0], r[2], r[1], r[0], f[2], f[1], f[0], l[2], l[1], l[0] =\\\n",
    "    l[2], l[1], l[0], b[2], b[1], b[0], r[2], r[1], r[0], f[2], f[1], f[0]\n",
    "    return cube\n",
    "def U2(cube):\n",
    "    for i in range(2):\n",
    "        U(cube)\n",
    "    return cube\n",
    "def Uc(cube):\n",
    "    for i in range(3):\n",
    "        U(cube)\n",
    "    return cube\n",
    "def D(cube):\n",
    "    f, b, u, d, l, r = cube\n",
    "    turnface(d)\n",
    "    f[6], f[7], f[8], r[6], r[7], r[8], b[6], b[7], b[8], l[6], l[7], l[8] =\\\n",
    "    l[6], l[7], l[8], f[6], f[7], f[8], r[6], r[7], r[8], b[6], b[7], b[8]\n",
    "    return cube\n",
    "# from here on I command c'd the double and counter moves but I forgot to replace the D in the def with L and R etc\n",
    "def D2(cube):\n",
    "    for i in range(2):\n",
    "        D(cube)\n",
    "    return cube\n",
    "def Dc(cube):\n",
    "    for i in range(3):\n",
    "        D(cube)\n",
    "    return cube\n",
    "def L(cube):\n",
    "    f, b, u, d, l, r = cube\n",
    "    turnface(l)\n",
    "    u[0], u[3], u[6], f[0], f[3], f[6], d[0], d[3], d[6], b[8], b[5], b[2] =\\\n",
    "    b[8], b[5], b[2], u[0], u[3], u[6], f[0], f[3], f[6], d[0], d[3], d[6]\n",
    "    return cube\n",
    "def L2(cube):\n",
    "    for i in range(2):\n",
    "        L(cube)\n",
    "    return cube\n",
    "def Lc(cube):\n",
    "    for i in range(3):\n",
    "        L(cube)\n",
    "    return cube\n",
    "def R(cube):\n",
    "    f, b, u, d, l, r = cube\n",
    "    turnface(r)\n",
    "    u[8], u[5], u[2], b[0], b[3], b[6], d[8], d[5], d[2], f[8], f[5], f[2] =\\\n",
    "    f[8], f[5], f[2], u[8], u[5], u[2], b[0], b[3], b[6], d[8], d[5], d[2]\n",
    "    return cube\n",
    "def R2(cube):\n",
    "    for i in range(2):\n",
    "        R(cube)\n",
    "    return cube\n",
    "def Rc(cube):\n",
    "    for i in range(3):\n",
    "        R(cube)\n",
    "    return cube\n",
    "moves = [F, F2, Fc, B, B2, Bc, U, U2, Uc, D, D2, Dc, L, L2, Lc, R, R2, Rc]\n",
    "names = [\"F\", \"F2\", \"F'\", \"B\", \"B2\", \"B'\", \"U\", \"U2\", \"U'\", \"D\", \"D2\", \"D'\", \"L\", \"L2\", \"L'\", \"R\", \"R2\", \"R'\"]\n",
    "def printc3(cube):\n",
    "    for i in range(6):\n",
    "        print cube[i][0], cube[i][1], cube[i][2]\n",
    "        print cube[i][3], cube[i][4], cube[i][5]\n",
    "        print cube[i][6], cube[i][7], cube[i][8]"
   ]
  },
  {
   "cell_type": "code",
   "execution_count": 6,
   "metadata": {
    "collapsed": false
   },
   "outputs": [
    {
     "name": "stdout",
     "output_type": "stream",
     "text": [
      "U' D L' D2 F' U2 D2 B' L' D2 U' R2 U' D' L B2 F2 U B L' D U' F U2 D2 L2 F2 B' D2 U \n",
      "g o b\n",
      "o b w\n",
      "y g y\n",
      "w w g\n",
      "g g b\n",
      "b b b\n",
      "r g g\n",
      "y w b\n",
      "w g o\n",
      "r y g\n",
      "y y r\n",
      "o y r\n",
      "y r o\n",
      "r r b\n",
      "w o b\n",
      "y w r\n",
      "o o r\n",
      "o w w\n"
     ]
    }
   ],
   "source": [
    "def shuffle(cube, n=30):\n",
    "    m = []\n",
    "    while len(m)<n:\n",
    "        a = randint(0,17)\n",
    "        if len(m)>0:\n",
    "            if m[-1] == a:\n",
    "                continue\n",
    "            elif m[-1]/3 == a/3:\n",
    "                continue\n",
    "        if len(m)>1:\n",
    "            if a/6 == m[-1]/6 == m[-2]/6:\n",
    "                continue\n",
    "        m.append(a)\n",
    "    for i in m:\n",
    "        moves[i](cube)\n",
    "        print names[i],\n",
    "    print \"\"\n",
    "    return cube\n",
    "\n",
    "copy = deepcopy(solvedcube)\n",
    "shuffle(copy)\n",
    "printc3(copy)"
   ]
  },
  {
   "cell_type": "code",
   "execution_count": 3,
   "metadata": {
    "collapsed": false
   },
   "outputs": [],
   "source": [
    "ndone = 15"
   ]
  },
  {
   "cell_type": "code",
   "execution_count": 4,
   "metadata": {
    "collapsed": false
   },
   "outputs": [
    {
     "name": "stdout",
     "output_type": "stream",
     "text": [
      "R 15\n",
      "b b y\n",
      "b b y\n",
      "b b y\n",
      "w g g\n",
      "w g g\n",
      "w g g\n",
      "w w b\n",
      "w w b\n",
      "w w b\n",
      "y y g\n",
      "y y g\n",
      "y y g\n",
      "r r r\n",
      "r r r\n",
      "r r r\n",
      "o o o\n",
      "o o o\n",
      "o o o\n"
     ]
    }
   ],
   "source": [
    "if ndone<18:\n",
    "    kuub = deepcopy(solvedcube)\n",
    "    print names[ndone], ndone\n",
    "    moves[ndone](kuub)\n",
    "    printc3(kuub)\n",
    "    ndone += 1"
   ]
  },
  {
   "cell_type": "code",
   "execution_count": 8,
   "metadata": {
    "collapsed": false
   },
   "outputs": [
    {
     "name": "stdout",
     "output_type": "stream",
     "text": [
      "B' U' D' F2 B L' U' L2 B U F' U2 F' D' B2 U' D' B' D R' F' U D' F2 R' B' L2 U2 B' R2 \n",
      "True\n",
      "True\n",
      "True\n",
      "True\n",
      "True\n",
      "True\n",
      "True\n",
      "True\n",
      "True\n",
      "True\n",
      "True\n",
      "True\n",
      "True\n",
      "True\n",
      "True\n",
      "True\n",
      "True\n",
      "True\n"
     ]
    }
   ],
   "source": [
    "a = deepcopy(solvedcube)\n",
    "a = shuffle(a)\n",
    "acopy = deepcopy(a)\n",
    "for i in moves:\n",
    "    for j in range(4):\n",
    "        i(a)\n",
    "    print a == acopy"
   ]
  },
  {
   "cell_type": "code",
   "execution_count": 9,
   "metadata": {
    "collapsed": false
   },
   "outputs": [
    {
     "data": {
      "text/plain": [
       "'F'"
      ]
     },
     "execution_count": 9,
     "metadata": {},
     "output_type": "execute_result"
    }
   ],
   "source": [
    "moves[0].__name__"
   ]
  },
  {
   "cell_type": "code",
   "execution_count": 11,
   "metadata": {
    "collapsed": false
   },
   "outputs": [],
   "source": [
    "while  not (cube[3][1] == cube[3][3] == cube[3][5] == cube[3][7] == \"y\" and cube[0][7] == \"b\" and cube[1][7] == \"g\" \\\n",
    "            and cube[4][7] == \"r\" and cube[5][7] == \"o\"):\n",
    "    \n",
    "\n",
    "def ucross(cube):\n",
    "    #find yellow edges\n",
    "    l = []\n",
    "    for face in cube:\n",
    "        for i in [1,3,5,7]:\n",
    "            c = face[i]\n",
    "            if c == \"y\":\n",
    "                l.append((face[4], c))\n",
    "    print l\n",
    "    # yellow edge in yellow\n",
    "    if cube[3][1] == \"y\":\n",
    "        \n",
    "    # yellow edge in white\n",
    "    # yellow edge to white"
   ]
  },
  {
   "cell_type": "code",
   "execution_count": 14,
   "metadata": {
    "collapsed": false
   },
   "outputs": [
    {
     "name": "stdout",
     "output_type": "stream",
     "text": [
      "R F U L2 R F' D2 R' U L \n"
     ]
    }
   ],
   "source": [
    "x = deepcopy(solvedcube)\n",
    "x = shuffle(x, 10)"
   ]
  },
  {
   "cell_type": "code",
   "execution_count": 17,
   "metadata": {
    "collapsed": false
   },
   "outputs": [
    {
     "name": "stdout",
     "output_type": "stream",
     "text": [
      "[('w', 'y'), ('y', 'y'), ('y', 'y'), ('r', 'y')]\n",
      "b g y\n",
      "o b b\n",
      "b g o\n",
      "g r b\n",
      "r g w\n",
      "r g r\n",
      "y y o\n",
      "b w w\n",
      "y w g\n",
      "w y g\n",
      "o y y\n",
      "w r w\n",
      "r y o\n",
      "o r g\n",
      "g b o\n",
      "r r y\n",
      "w o b\n",
      "w o b\n"
     ]
    }
   ],
   "source": [
    "ucross(x)\n",
    "printc3(x)"
   ]
  },
  {
   "cell_type": "code",
   "execution_count": null,
   "metadata": {
    "collapsed": true
   },
   "outputs": [],
   "source": []
  },
  {
   "cell_type": "code",
   "execution_count": null,
   "metadata": {
    "collapsed": true
   },
   "outputs": [],
   "source": []
  }
 ],
 "metadata": {
  "kernelspec": {
   "display_name": "Python 2",
   "language": "python",
   "name": "python2"
  },
  "language_info": {
   "codemirror_mode": {
    "name": "ipython",
    "version": 2
   },
   "file_extension": ".py",
   "mimetype": "text/x-python",
   "name": "python",
   "nbconvert_exporter": "python",
   "pygments_lexer": "ipython2",
   "version": "2.7.10"
  }
 },
 "nbformat": 4,
 "nbformat_minor": 0
}
