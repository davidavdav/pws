{
 "cells": [
  {
   "cell_type": "code",
   "execution_count": 4,
   "metadata": {
    "collapsed": true
   },
   "outputs": [],
   "source": [
    "from copy import deepcopy\n",
    "from random import randint"
   ]
  },
  {
   "cell_type": "code",
   "execution_count": 5,
   "metadata": {
    "collapsed": false
   },
   "outputs": [],
   "source": [
    "cf = [\"b\" for i in range(4)]\n",
    "cb = [\"g\" for i in range(4)]\n",
    "cu = [\"w\" for i in range(4)]\n",
    "cd = [\"y\" for i in range(4)]\n",
    "cl = [\"r\" for i in range(4)]\n",
    "cr = [\"o\" for i in range(4)]\n",
    "solvedcube = [cf, cb, cu, cd, cl, cr]\n",
    "\n",
    "shuffledcube = [[\"b\", \"g\", \"w\", \"y\"], [\"b\", \"g\", \"w\", \"y\"], [\"y\", \"o\", \"w\", \"r\"], [\"r\", \"o\", \"b\", \"g\"], \\\n",
    "                [\"o\", \"r\", \"r\", \"g\"], [\"y\", \"w\", \"b\", \"o\"]]\n",
    "\n",
    "def printc2(cube):\n",
    "    for i in range(6):\n",
    "        print cube[i][0], cube[i][1]\n",
    "        print cube[i][2], cube[i][3]\n",
    "\n",
    "def F(cube):\n",
    "    f, b, u, d, l, r = cube\n",
    "    f[0], f[1], f[2], f[3] = f[2], f[0], f[3], f[1]\n",
    "    u[2], u[3], r[0], r[2], d[1], d[0], l[3], l[1] = l[3], l[1], u[2], u[3], r[0], r[2], d[1], d[0]\n",
    "    return cube\n",
    "def F2(cube):\n",
    "    for i in range(2):\n",
    "        F(cube)\n",
    "    return cube\n",
    "def Fc(cube):\n",
    "    for i in range(3):\n",
    "        F(cube)\n",
    "    return cube\n",
    "def B(cube):\n",
    "    f, b, u, d, l, r = cube\n",
    "    b[0], b[1], b[2], b[3] = b[2], b[0], b[3], b[1]\n",
    "    u[1], u[0], l[0], l[2], d[3], d[2], r[3], r[1] = r[3], r[1], u[1], u[0], l[0], l[2], d[3], d[2]\n",
    "    return cube\n",
    "def B2(cube):\n",
    "    for i in range(2):\n",
    "        B(cube)\n",
    "    return cube\n",
    "def Bc(cube):\n",
    "    for i in range(3):\n",
    "        B(cube)\n",
    "    return cube\n",
    "def U(cube):\n",
    "    f, b, u, d, l, r = cube\n",
    "    u[0], u[1], u[2], u[3] = u[2], u[0], u[3], u[1]\n",
    "    b[1], b[0], r[1], r[0], f[1], f[0], l[1], l[0] = l[1], l[0], b[1], b[0], r[1], r[0], f[1], f[0]\n",
    "    return cube\n",
    "def U2(cube):\n",
    "    for i in range(2):\n",
    "        U(cube)\n",
    "    return cube\n",
    "def Uc(cube):\n",
    "    for i in range(3):\n",
    "        U(cube)\n",
    "    return cube\n",
    "def D(cube):\n",
    "    f, b, u, d, l, r = cube\n",
    "    d[0], d[1], d[2], d[3] = d[2], d[0], d[3], d[1]\n",
    "    f[2], f[3], r[2], r[3], b[2], b[3], l[2], l[3] = l[2], l[3], f[2], f[3], r[2], r[3], b[2], b[3]\n",
    "    return cube\n",
    "def D2(cube):\n",
    "    for i in range(2):\n",
    "        D(cube)\n",
    "    return cube\n",
    "def Dc(cube):\n",
    "    for i in range(3):\n",
    "        D(cube)\n",
    "    return cube\n",
    "def L(cube):\n",
    "    f, b, u, d, l, r = cube\n",
    "    l[0], l[1], l[2], l[3] = l[2], l[0], l[3], l[1]\n",
    "    u[0], u[2], f[0], f[2], d[0], d[2], b[3], b[1] = b[3], b[1], u[0], u[2], f[0], f[2], d[0], d[2]\n",
    "    return cube\n",
    "def L2(cube):\n",
    "    for i in range(2):\n",
    "        L(cube)\n",
    "    return cube\n",
    "def Lc(cube):\n",
    "    for i in range(3):\n",
    "        L(cube)\n",
    "    return cube\n",
    "def R(cube):\n",
    "    f, b, u, d, l, r = cube\n",
    "    r[0], r[1], r[2], r[3] = r[2], r[0], r[3], r[1]\n",
    "    u[3], u[1], b[0], b[2], d[3], d[1], f[3], f[1] = f[3], f[1], u[3], u[1], b[0], b[2], d[3], d[1]\n",
    "    return cube\n",
    "def R2(cube):\n",
    "    for i in range(2):\n",
    "        R(cube)\n",
    "    return cube\n",
    "def Rc(cube):\n",
    "    for i in range(3):\n",
    "        R(cube)\n",
    "    return cube\n",
    "\n",
    "moves1 = [F, Fc, B, Bc, U, Uc, D, Dc, L, Lc, R, Rc, F2, B2, U2, D2, L2, R2]\n",
    "names1 = [\"F\", \"F'\", \"B\", \"B'\", \"U\", \"U'\", \"D\", \"D'\", \"L\", \"L'\", \"R\", \"R'\", \"F2\", \"B2\", \"U2\", \"D2\", \"L2\", \"R2\"]"
   ]
  },
  {
   "cell_type": "code",
   "execution_count": 6,
   "metadata": {
    "collapsed": false
   },
   "outputs": [
    {
     "name": "stdout",
     "output_type": "stream",
     "text": [
      "L F' R' U' L' R L' F' R' R' L D U' U' R F' R' L' F D R' D L B' U R B F' L' U [8, 1, 11, 5, 9, 10, 9, 1, 11, 11, 8, 6, 5, 5, 10, 1, 11, 9, 0, 6, 11, 6, 8, 3, 4, 10, 2, 1, 9, 4]\n"
     ]
    },
    {
     "data": {
      "text/plain": [
       "('This should be what you cube looks like:',\n",
       " [['y', 'g', 'r', 'w'],\n",
       "  ['o', 'r', 'o', 'w'],\n",
       "  ['g', 'g', 'r', 'b'],\n",
       "  ['o', 'r', 'b', 'b'],\n",
       "  ['w', 'y', 'o', 'y'],\n",
       "  ['y', 'w', 'b', 'g']])"
      ]
     },
     "execution_count": 6,
     "metadata": {},
     "output_type": "execute_result"
    }
   ],
   "source": [
    "def shuffle1(cube, n=30):\n",
    "    m = []\n",
    "    while len(m) < n:\n",
    "        a = randint(0,11)\n",
    "        if len(m) > 0:\n",
    "            # L L'\n",
    "            if a % 2 == 0:\n",
    "                if a + 1 == m[-1]:\n",
    "                    continue\n",
    "            if a % 2 != 0:\n",
    "                if a - 1 == m[-1]:\n",
    "                    continue\n",
    "        if len(m)>1:\n",
    "            # L L L\n",
    "            if a == m[-1] and a == m[-2]:\n",
    "                continue\n",
    "            # L R L'\n",
    "            if a in [2,6,10] and m[-1] in [a-1, a-2] and m[-2] == a+1:\n",
    "                continue\n",
    "            if a in [0,4,8] and m[-1] in [a+2, a+3] and m[-2] == a+1:\n",
    "                continue\n",
    "            if a in [3,7,11] and m[-1] in [a-2 or a-3] and m[-2] == a-1:\n",
    "                continue\n",
    "            if a in [1,5,9] and m[-1] in [a+1 or a+2] and m[-2] == a-1:\n",
    "                continue\n",
    "        if len(m)>2:\n",
    "            # L R R L'\n",
    "            # L L R L\n",
    "            if a in [2,6,10]:\n",
    "                if m[-1] in [a-1, a-2] and m[-2] in [a-1, a-2] and m[-3] == a+1:\n",
    "                    continue\n",
    "                if m[-1] in [a-1, a-2] and m[-2] == a and m[-3] == a:\n",
    "                    continue\n",
    "            if a in [0,4,8]:\n",
    "                if m[-1] in [a+2, a+3] and m[-2] in [a+2, a+3] and m[-3] == a+1:\n",
    "                    continue\n",
    "                if m[-1] in [a+2, a+3] and m[-2] == a and m[-3] == a:\n",
    "                    continue\n",
    "            if a in [3,7,11]:\n",
    "                if m[-1] in [a-2, a-3] and m[-2] in [a-2, a-3] and m[-3] == a-1:\n",
    "                    continue\n",
    "                if m[-1] in [a-2, a-3] and m[-2] == a and m[-3] == a:\n",
    "                    continue\n",
    "            if a in [1,5,9]:\n",
    "                if m[-1] in [a+1, a+2] and m[-2] in [a+1, a+2] and m[-3] == a-1:\n",
    "                    continue\n",
    "                if m[-1] in [a+1, a+2] and m[-2] == a and m[-3] == a:\n",
    "                    continue\n",
    "        if len(m)>3:\n",
    "            # L L R R L\n",
    "            if a in [2,6,10] and m[-1] in [a-1, a-2] and m[-2] in [a-1, a-2] and m[-3] == a and m[-4] == a:\n",
    "                continue\n",
    "            if a in [0,4,8] and m[-1] in [a+2, a+3] and m[-2] in [a+2, a+3] and m[-3] == a and m[-4] == a:\n",
    "                continue\n",
    "            if a in [3,7,11] and m[-1] in [a-2, a-3] and m[-2] in [a-2, a-3] and m[-3] == a and m[-4] == a:\n",
    "                continue\n",
    "            if a in [1,5,9] and m[-1] in [a+1, a+2] and m[-2] in [a+1, a+2] and m[-3] == a and m[-4] == a:\n",
    "                continue\n",
    "        m.append(a)\n",
    "    for i in m:\n",
    "        moves1[i](cube)\n",
    "        print names1[i],\n",
    "    print m\n",
    "    return \"This should be what you cube looks like:\", cube\n",
    "a = deepcopy(solvedcube)\n",
    "shuffle1(a)"
   ]
  },
  {
   "cell_type": "code",
   "execution_count": 7,
   "metadata": {
    "collapsed": false
   },
   "outputs": [
    {
     "name": "stdout",
     "output_type": "stream",
     "text": [
      "B' U D' F' B' R' F' D' L B' D L D' F' F' B' R B' L' B L U' R L D' F' D F R' B R' U R F R' F' L U F' U' L B D' L F"
     ]
    },
    {
     "data": {
      "text/plain": [
       "('This is what you cube should look like:',\n",
       " [['w', 'r', 'b', 'y'],\n",
       "  ['r', 'y', 'w', 'o'],\n",
       "  ['o', 'o', 'g', 'w'],\n",
       "  ['o', 'b', 'w', 'g'],\n",
       "  ['y', 'r', 'g', 'b'],\n",
       "  ['r', 'g', 'b', 'y']])"
      ]
     },
     "execution_count": 7,
     "metadata": {},
     "output_type": "execute_result"
    },
    {
     "name": "stdout",
     "output_type": "stream",
     "text": [
      "\n"
     ]
    }
   ],
   "source": [
    "def shuffle2(cube, n=30):\n",
    "    m = []\n",
    "    s = 0\n",
    "    while len(m)<n:\n",
    "        a = randint(0,11)\n",
    "        if len(m)>0:\n",
    "            # L L' -> L\n",
    "            if a/2 == m[-1]/2 and a != m[-1]:\n",
    "                continue\n",
    "        if len(m)>1:\n",
    "            # L L L -> L L\n",
    "            if a == m[-1] == m[-2]:\n",
    "                continue\n",
    "            if a/4 == m[-1]/4 == m[-2]/4:\n",
    "                ## three moves in same plane\n",
    "                if a/2 == m[-2]/2 and a/2 != m[-1]/2:\n",
    "                    # L R L -> L L R\n",
    "                    if a == m[-2]:\n",
    "                        m[-1], a = a, m[-1]\n",
    "                    # L R L' -> L R\n",
    "                    if a != m[-1]: #dan is het dus de counter van die move\n",
    "                        continue\n",
    "        if len(m)>2:\n",
    "            if a/4 == m[-1]/4 == m[-2]/4 == m[-3]/4:\n",
    "                # L L R L -> L L R\n",
    "                # L L R L' -> L L R\n",
    "                if a/2 != m[-1]/2 and a/2 == m[-2]/2 == m[-3]/2:\n",
    "                    continue\n",
    "                if a/2 != m[-1]/2 and a/2 != m[-2]/2 and a/2 == m[-3]/2:\n",
    "                    # L R R L' -> L R R\n",
    "                    if a == m[-3]:\n",
    "                        m[-2], m[-1], a, = a, m[-2], m[-1]\n",
    "                    # L R R L -> L L R R\n",
    "                    if a != m[-3]:\n",
    "                        continue\n",
    "        if len(m)>3:\n",
    "            if a/4 == m[-1]/4 == m[-2]/4 == m[-3]/4 == m[-4]/4:\n",
    "                continue\n",
    "        m.append(a)\n",
    "    for i in m:\n",
    "        moves1[i](cube)\n",
    "        print names1[i],\n",
    "    return \"This is what you cube should look like:\", cube\n",
    "\n",
    "copy = deepcopy(solvedcube)\n",
    "shuffle2(copy, 45)"
   ]
  },
  {
   "cell_type": "code",
   "execution_count": 9,
   "metadata": {
    "collapsed": false
   },
   "outputs": [
    {
     "name": "stdout",
     "output_type": "stream",
     "text": [
      "B2 U2 F' U2 R2 B F2 R2 F2 U' F' U D' F2 L' D U B R2 B2 F D F B U2 L B R' U' B"
     ]
    },
    {
     "data": {
      "text/plain": [
       "[['r', 'b', 'b', 'g'],\n",
       " ['w', 'o', 'g', 'b'],\n",
       " ['y', 'y', 'r', 'w'],\n",
       " ['w', 'r', 'r', 'o'],\n",
       " ['y', 'b', 'g', 'y'],\n",
       " ['o', 'o', 'w', 'g']]"
      ]
     },
     "execution_count": 9,
     "metadata": {},
     "output_type": "execute_result"
    },
    {
     "name": "stdout",
     "output_type": "stream",
     "text": [
      "\n"
     ]
    }
   ],
   "source": [
    "moves = [F, F2, Fc, B, B2, Bc, U, U2, Uc, D, D2, Dc, L, L2, Lc, R, R2, Rc]\n",
    "names = [\"F\", \"F2\", \"F'\", \"B\", \"B2\", \"B'\", \"U\", \"U2\", \"U'\", \"D\", \"D2\", \"D'\", \"L\", \"L2\", \"L'\", \"R\", \"R2\", \"R'\"]\n",
    "\n",
    "def shuffle(cube, n=30):\n",
    "    m = []\n",
    "    while len(m)<n:\n",
    "        a = randint(0,17)\n",
    "        if len(m)>0:\n",
    "            if m[-1] == a:\n",
    "                continue\n",
    "            elif m[-1]/3 == a/3:\n",
    "                continue\n",
    "        if len(m)>1:\n",
    "            if a/6 == m[-1]/6 == m[-2]/6:\n",
    "                continue\n",
    "        m.append(a)\n",
    "    for i in m:\n",
    "        moves[i](cube)\n",
    "        print names[i],\n",
    "    return cube\n",
    "\n",
    "copy2 = deepcopy(solvedcube)\n",
    "shuffle(copy2)"
   ]
  },
  {
   "cell_type": "code",
   "execution_count": null,
   "metadata": {
    "collapsed": true
   },
   "outputs": [],
   "source": [
    "def initkuub():\n",
    "    "
   ]
  }
 ],
 "metadata": {
  "kernelspec": {
   "display_name": "Python 2",
   "language": "python",
   "name": "python2"
  },
  "language_info": {
   "codemirror_mode": {
    "name": "ipython",
    "version": 2
   },
   "file_extension": ".py",
   "mimetype": "text/x-python",
   "name": "python",
   "nbconvert_exporter": "python",
   "pygments_lexer": "ipython2",
   "version": "2.7.10"
  }
 },
 "nbformat": 4,
 "nbformat_minor": 0
}
